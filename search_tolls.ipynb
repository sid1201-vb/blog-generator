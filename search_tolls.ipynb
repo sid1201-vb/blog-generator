{
 "cells": [
  {
   "cell_type": "code",
   "execution_count": 1,
   "metadata": {},
   "outputs": [
    {
     "name": "stdout",
     "output_type": "stream",
     "text": [
      "Note: you may need to restart the kernel to use updated packages.\n"
     ]
    },
    {
     "name": "stderr",
     "output_type": "stream",
     "text": [
      "\n",
      "[notice] A new release of pip is available: 24.0 -> 25.0.1\n",
      "[notice] To update, run: python.exe -m pip install --upgrade pip\n"
     ]
    }
   ],
   "source": [
    "%pip install -qU duckduckgo-search langchain-community\n",
    "\n"
   ]
  },
  {
   "cell_type": "code",
   "execution_count": 19,
   "metadata": {},
   "outputs": [
    {
     "ename": "DuckDuckGoSearchException",
     "evalue": "https://lite.duckduckgo.com/lite/ 202 Ratelimit",
     "output_type": "error",
     "traceback": [
      "\u001b[1;31m---------------------------------------------------------------------------\u001b[0m",
      "\u001b[1;31mDuckDuckGoSearchException\u001b[0m                 Traceback (most recent call last)",
      "Cell \u001b[1;32mIn[19], line 6\u001b[0m\n\u001b[0;32m      2\u001b[0m \u001b[38;5;28;01mfrom\u001b[39;00m\u001b[38;5;250m \u001b[39m\u001b[38;5;21;01mlangchain_community\u001b[39;00m\u001b[38;5;21;01m.\u001b[39;00m\u001b[38;5;21;01mtools\u001b[39;00m\u001b[38;5;250m \u001b[39m\u001b[38;5;28;01mimport\u001b[39;00m DuckDuckGoSearchResults\n\u001b[0;32m      4\u001b[0m search \u001b[38;5;241m=\u001b[39m DuckDuckGoSearchResults(output_format\u001b[38;5;241m=\u001b[39m\u001b[38;5;124m\"\u001b[39m\u001b[38;5;124mlist\u001b[39m\u001b[38;5;124m\"\u001b[39m)\n\u001b[1;32m----> 6\u001b[0m \u001b[43msearch\u001b[49m\u001b[38;5;241;43m.\u001b[39;49m\u001b[43minvoke\u001b[49m\u001b[43m(\u001b[49m\u001b[38;5;124;43m\"\u001b[39;49m\u001b[38;5;124;43mWhat is Reinenforcement Learning\u001b[39;49m\u001b[38;5;124;43m\"\u001b[39;49m\u001b[43m)\u001b[49m\n",
      "File \u001b[1;32md:\\Projects\\content_generation\\venv\\Lib\\site-packages\\langchain_core\\tools\\base.py:506\u001b[0m, in \u001b[0;36mBaseTool.invoke\u001b[1;34m(self, input, config, **kwargs)\u001b[0m\n\u001b[0;32m    499\u001b[0m \u001b[38;5;28;01mdef\u001b[39;00m\u001b[38;5;250m \u001b[39m\u001b[38;5;21minvoke\u001b[39m(\n\u001b[0;32m    500\u001b[0m     \u001b[38;5;28mself\u001b[39m,\n\u001b[0;32m    501\u001b[0m     \u001b[38;5;28minput\u001b[39m: Union[\u001b[38;5;28mstr\u001b[39m, \u001b[38;5;28mdict\u001b[39m, ToolCall],\n\u001b[0;32m    502\u001b[0m     config: Optional[RunnableConfig] \u001b[38;5;241m=\u001b[39m \u001b[38;5;28;01mNone\u001b[39;00m,\n\u001b[0;32m    503\u001b[0m     \u001b[38;5;241m*\u001b[39m\u001b[38;5;241m*\u001b[39mkwargs: Any,\n\u001b[0;32m    504\u001b[0m ) \u001b[38;5;241m-\u001b[39m\u001b[38;5;241m>\u001b[39m Any:\n\u001b[0;32m    505\u001b[0m     tool_input, kwargs \u001b[38;5;241m=\u001b[39m _prep_run_args(\u001b[38;5;28minput\u001b[39m, config, \u001b[38;5;241m*\u001b[39m\u001b[38;5;241m*\u001b[39mkwargs)\n\u001b[1;32m--> 506\u001b[0m     \u001b[38;5;28;01mreturn\u001b[39;00m \u001b[38;5;28;43mself\u001b[39;49m\u001b[38;5;241;43m.\u001b[39;49m\u001b[43mrun\u001b[49m\u001b[43m(\u001b[49m\u001b[43mtool_input\u001b[49m\u001b[43m,\u001b[49m\u001b[43m \u001b[49m\u001b[38;5;241;43m*\u001b[39;49m\u001b[38;5;241;43m*\u001b[39;49m\u001b[43mkwargs\u001b[49m\u001b[43m)\u001b[49m\n",
      "File \u001b[1;32md:\\Projects\\content_generation\\venv\\Lib\\site-packages\\langchain_core\\tools\\base.py:760\u001b[0m, in \u001b[0;36mBaseTool.run\u001b[1;34m(self, tool_input, verbose, start_color, color, callbacks, tags, metadata, run_name, run_id, config, tool_call_id, **kwargs)\u001b[0m\n\u001b[0;32m    758\u001b[0m \u001b[38;5;28;01mif\u001b[39;00m error_to_raise:\n\u001b[0;32m    759\u001b[0m     run_manager\u001b[38;5;241m.\u001b[39mon_tool_error(error_to_raise)\n\u001b[1;32m--> 760\u001b[0m     \u001b[38;5;28;01mraise\u001b[39;00m error_to_raise\n\u001b[0;32m    761\u001b[0m output \u001b[38;5;241m=\u001b[39m _format_output(content, artifact, tool_call_id, \u001b[38;5;28mself\u001b[39m\u001b[38;5;241m.\u001b[39mname, status)\n\u001b[0;32m    762\u001b[0m run_manager\u001b[38;5;241m.\u001b[39mon_tool_end(output, color\u001b[38;5;241m=\u001b[39mcolor, name\u001b[38;5;241m=\u001b[39m\u001b[38;5;28mself\u001b[39m\u001b[38;5;241m.\u001b[39mname, \u001b[38;5;241m*\u001b[39m\u001b[38;5;241m*\u001b[39mkwargs)\n",
      "File \u001b[1;32md:\\Projects\\content_generation\\venv\\Lib\\site-packages\\langchain_core\\tools\\base.py:729\u001b[0m, in \u001b[0;36mBaseTool.run\u001b[1;34m(self, tool_input, verbose, start_color, color, callbacks, tags, metadata, run_name, run_id, config, tool_call_id, **kwargs)\u001b[0m\n\u001b[0;32m    727\u001b[0m \u001b[38;5;28;01mif\u001b[39;00m config_param \u001b[38;5;241m:=\u001b[39m _get_runnable_config_param(\u001b[38;5;28mself\u001b[39m\u001b[38;5;241m.\u001b[39m_run):\n\u001b[0;32m    728\u001b[0m     tool_kwargs \u001b[38;5;241m=\u001b[39m tool_kwargs \u001b[38;5;241m|\u001b[39m {config_param: config}\n\u001b[1;32m--> 729\u001b[0m response \u001b[38;5;241m=\u001b[39m \u001b[43mcontext\u001b[49m\u001b[38;5;241;43m.\u001b[39;49m\u001b[43mrun\u001b[49m\u001b[43m(\u001b[49m\u001b[38;5;28;43mself\u001b[39;49m\u001b[38;5;241;43m.\u001b[39;49m\u001b[43m_run\u001b[49m\u001b[43m,\u001b[49m\u001b[43m \u001b[49m\u001b[38;5;241;43m*\u001b[39;49m\u001b[43mtool_args\u001b[49m\u001b[43m,\u001b[49m\u001b[43m \u001b[49m\u001b[38;5;241;43m*\u001b[39;49m\u001b[38;5;241;43m*\u001b[39;49m\u001b[43mtool_kwargs\u001b[49m\u001b[43m)\u001b[49m\n\u001b[0;32m    730\u001b[0m \u001b[38;5;28;01mif\u001b[39;00m \u001b[38;5;28mself\u001b[39m\u001b[38;5;241m.\u001b[39mresponse_format \u001b[38;5;241m==\u001b[39m \u001b[38;5;124m\"\u001b[39m\u001b[38;5;124mcontent_and_artifact\u001b[39m\u001b[38;5;124m\"\u001b[39m:\n\u001b[0;32m    731\u001b[0m     \u001b[38;5;28;01mif\u001b[39;00m \u001b[38;5;129;01mnot\u001b[39;00m \u001b[38;5;28misinstance\u001b[39m(response, \u001b[38;5;28mtuple\u001b[39m) \u001b[38;5;129;01mor\u001b[39;00m \u001b[38;5;28mlen\u001b[39m(response) \u001b[38;5;241m!=\u001b[39m \u001b[38;5;241m2\u001b[39m:\n",
      "File \u001b[1;32md:\\Projects\\content_generation\\venv\\Lib\\site-packages\\langchain_community\\tools\\ddg_search\\tool.py:112\u001b[0m, in \u001b[0;36mDuckDuckGoSearchResults._run\u001b[1;34m(self, query, run_manager)\u001b[0m\n\u001b[0;32m    106\u001b[0m \u001b[38;5;28;01mdef\u001b[39;00m\u001b[38;5;250m \u001b[39m\u001b[38;5;21m_run\u001b[39m(\n\u001b[0;32m    107\u001b[0m     \u001b[38;5;28mself\u001b[39m,\n\u001b[0;32m    108\u001b[0m     query: \u001b[38;5;28mstr\u001b[39m,\n\u001b[0;32m    109\u001b[0m     run_manager: Optional[CallbackManagerForToolRun] \u001b[38;5;241m=\u001b[39m \u001b[38;5;28;01mNone\u001b[39;00m,\n\u001b[0;32m    110\u001b[0m ) \u001b[38;5;241m-\u001b[39m\u001b[38;5;241m>\u001b[39m \u001b[38;5;28mtuple\u001b[39m[Union[List[\u001b[38;5;28mdict\u001b[39m], \u001b[38;5;28mstr\u001b[39m], List[\u001b[38;5;28mdict\u001b[39m]]:\n\u001b[0;32m    111\u001b[0m \u001b[38;5;250m    \u001b[39m\u001b[38;5;124;03m\"\"\"Use the tool.\"\"\"\u001b[39;00m\n\u001b[1;32m--> 112\u001b[0m     raw_results \u001b[38;5;241m=\u001b[39m \u001b[38;5;28;43mself\u001b[39;49m\u001b[38;5;241;43m.\u001b[39;49m\u001b[43mapi_wrapper\u001b[49m\u001b[38;5;241;43m.\u001b[39;49m\u001b[43mresults\u001b[49m\u001b[43m(\u001b[49m\n\u001b[0;32m    113\u001b[0m \u001b[43m        \u001b[49m\u001b[43mquery\u001b[49m\u001b[43m,\u001b[49m\u001b[43m \u001b[49m\u001b[38;5;28;43mself\u001b[39;49m\u001b[38;5;241;43m.\u001b[39;49m\u001b[43mmax_results\u001b[49m\u001b[43m,\u001b[49m\u001b[43m \u001b[49m\u001b[43msource\u001b[49m\u001b[38;5;241;43m=\u001b[39;49m\u001b[38;5;28;43mself\u001b[39;49m\u001b[38;5;241;43m.\u001b[39;49m\u001b[43mbackend\u001b[49m\n\u001b[0;32m    114\u001b[0m \u001b[43m    \u001b[49m\u001b[43m)\u001b[49m\n\u001b[0;32m    115\u001b[0m     results \u001b[38;5;241m=\u001b[39m [\n\u001b[0;32m    116\u001b[0m         {\n\u001b[0;32m    117\u001b[0m             k: v\n\u001b[1;32m   (...)\u001b[0m\n\u001b[0;32m    121\u001b[0m         \u001b[38;5;28;01mfor\u001b[39;00m d \u001b[38;5;129;01min\u001b[39;00m raw_results\n\u001b[0;32m    122\u001b[0m     ]\n\u001b[0;32m    124\u001b[0m     \u001b[38;5;28;01mif\u001b[39;00m \u001b[38;5;28mself\u001b[39m\u001b[38;5;241m.\u001b[39moutput_format \u001b[38;5;241m==\u001b[39m \u001b[38;5;124m\"\u001b[39m\u001b[38;5;124mlist\u001b[39m\u001b[38;5;124m\"\u001b[39m:\n",
      "File \u001b[1;32md:\\Projects\\content_generation\\venv\\Lib\\site-packages\\langchain_community\\utilities\\duckduckgo_search.py:146\u001b[0m, in \u001b[0;36mDuckDuckGoSearchAPIWrapper.results\u001b[1;34m(self, query, max_results, source)\u001b[0m\n\u001b[0;32m    142\u001b[0m source \u001b[38;5;241m=\u001b[39m source \u001b[38;5;129;01mor\u001b[39;00m \u001b[38;5;28mself\u001b[39m\u001b[38;5;241m.\u001b[39msource\n\u001b[0;32m    143\u001b[0m \u001b[38;5;28;01mif\u001b[39;00m source \u001b[38;5;241m==\u001b[39m \u001b[38;5;124m\"\u001b[39m\u001b[38;5;124mtext\u001b[39m\u001b[38;5;124m\"\u001b[39m:\n\u001b[0;32m    144\u001b[0m     results \u001b[38;5;241m=\u001b[39m [\n\u001b[0;32m    145\u001b[0m         {\u001b[38;5;124m\"\u001b[39m\u001b[38;5;124msnippet\u001b[39m\u001b[38;5;124m\"\u001b[39m: r[\u001b[38;5;124m\"\u001b[39m\u001b[38;5;124mbody\u001b[39m\u001b[38;5;124m\"\u001b[39m], \u001b[38;5;124m\"\u001b[39m\u001b[38;5;124mtitle\u001b[39m\u001b[38;5;124m\"\u001b[39m: r[\u001b[38;5;124m\"\u001b[39m\u001b[38;5;124mtitle\u001b[39m\u001b[38;5;124m\"\u001b[39m], \u001b[38;5;124m\"\u001b[39m\u001b[38;5;124mlink\u001b[39m\u001b[38;5;124m\"\u001b[39m: r[\u001b[38;5;124m\"\u001b[39m\u001b[38;5;124mhref\u001b[39m\u001b[38;5;124m\"\u001b[39m]}\n\u001b[1;32m--> 146\u001b[0m         \u001b[38;5;28;01mfor\u001b[39;00m r \u001b[38;5;129;01min\u001b[39;00m \u001b[38;5;28;43mself\u001b[39;49m\u001b[38;5;241;43m.\u001b[39;49m\u001b[43m_ddgs_text\u001b[49m\u001b[43m(\u001b[49m\u001b[43mquery\u001b[49m\u001b[43m,\u001b[49m\u001b[43m \u001b[49m\u001b[43mmax_results\u001b[49m\u001b[38;5;241;43m=\u001b[39;49m\u001b[43mmax_results\u001b[49m\u001b[43m)\u001b[49m\n\u001b[0;32m    147\u001b[0m     ]\n\u001b[0;32m    148\u001b[0m \u001b[38;5;28;01melif\u001b[39;00m source \u001b[38;5;241m==\u001b[39m \u001b[38;5;124m\"\u001b[39m\u001b[38;5;124mnews\u001b[39m\u001b[38;5;124m\"\u001b[39m:\n\u001b[0;32m    149\u001b[0m     results \u001b[38;5;241m=\u001b[39m [\n\u001b[0;32m    150\u001b[0m         {\n\u001b[0;32m    151\u001b[0m             \u001b[38;5;124m\"\u001b[39m\u001b[38;5;124msnippet\u001b[39m\u001b[38;5;124m\"\u001b[39m: r[\u001b[38;5;124m\"\u001b[39m\u001b[38;5;124mbody\u001b[39m\u001b[38;5;124m\"\u001b[39m],\n\u001b[1;32m   (...)\u001b[0m\n\u001b[0;32m    157\u001b[0m         \u001b[38;5;28;01mfor\u001b[39;00m r \u001b[38;5;129;01min\u001b[39;00m \u001b[38;5;28mself\u001b[39m\u001b[38;5;241m.\u001b[39m_ddgs_news(query, max_results\u001b[38;5;241m=\u001b[39mmax_results)\n\u001b[0;32m    158\u001b[0m     ]\n",
      "File \u001b[1;32md:\\Projects\\content_generation\\venv\\Lib\\site-packages\\langchain_community\\utilities\\duckduckgo_search.py:64\u001b[0m, in \u001b[0;36mDuckDuckGoSearchAPIWrapper._ddgs_text\u001b[1;34m(self, query, max_results)\u001b[0m\n\u001b[0;32m     61\u001b[0m \u001b[38;5;28;01mfrom\u001b[39;00m\u001b[38;5;250m \u001b[39m\u001b[38;5;21;01mduckduckgo_search\u001b[39;00m\u001b[38;5;250m \u001b[39m\u001b[38;5;28;01mimport\u001b[39;00m DDGS\n\u001b[0;32m     63\u001b[0m \u001b[38;5;28;01mwith\u001b[39;00m DDGS() \u001b[38;5;28;01mas\u001b[39;00m ddgs:\n\u001b[1;32m---> 64\u001b[0m     ddgs_gen \u001b[38;5;241m=\u001b[39m \u001b[43mddgs\u001b[49m\u001b[38;5;241;43m.\u001b[39;49m\u001b[43mtext\u001b[49m\u001b[43m(\u001b[49m\n\u001b[0;32m     65\u001b[0m \u001b[43m        \u001b[49m\u001b[43mquery\u001b[49m\u001b[43m,\u001b[49m\n\u001b[0;32m     66\u001b[0m \u001b[43m        \u001b[49m\u001b[43mregion\u001b[49m\u001b[38;5;241;43m=\u001b[39;49m\u001b[38;5;28;43mself\u001b[39;49m\u001b[38;5;241;43m.\u001b[39;49m\u001b[43mregion\u001b[49m\u001b[43m,\u001b[49m\u001b[43m  \u001b[49m\u001b[38;5;66;43;03m# type: ignore[arg-type]\u001b[39;49;00m\n\u001b[0;32m     67\u001b[0m \u001b[43m        \u001b[49m\u001b[43msafesearch\u001b[49m\u001b[38;5;241;43m=\u001b[39;49m\u001b[38;5;28;43mself\u001b[39;49m\u001b[38;5;241;43m.\u001b[39;49m\u001b[43msafesearch\u001b[49m\u001b[43m,\u001b[49m\n\u001b[0;32m     68\u001b[0m \u001b[43m        \u001b[49m\u001b[43mtimelimit\u001b[49m\u001b[38;5;241;43m=\u001b[39;49m\u001b[38;5;28;43mself\u001b[39;49m\u001b[38;5;241;43m.\u001b[39;49m\u001b[43mtime\u001b[49m\u001b[43m,\u001b[49m\n\u001b[0;32m     69\u001b[0m \u001b[43m        \u001b[49m\u001b[43mmax_results\u001b[49m\u001b[38;5;241;43m=\u001b[39;49m\u001b[43mmax_results\u001b[49m\u001b[43m \u001b[49m\u001b[38;5;129;43;01mor\u001b[39;49;00m\u001b[43m \u001b[49m\u001b[38;5;28;43mself\u001b[39;49m\u001b[38;5;241;43m.\u001b[39;49m\u001b[43mmax_results\u001b[49m\u001b[43m,\u001b[49m\n\u001b[0;32m     70\u001b[0m \u001b[43m        \u001b[49m\u001b[43mbackend\u001b[49m\u001b[38;5;241;43m=\u001b[39;49m\u001b[38;5;28;43mself\u001b[39;49m\u001b[38;5;241;43m.\u001b[39;49m\u001b[43mbackend\u001b[49m\u001b[43m,\u001b[49m\n\u001b[0;32m     71\u001b[0m \u001b[43m    \u001b[49m\u001b[43m)\u001b[49m\n\u001b[0;32m     72\u001b[0m     \u001b[38;5;28;01mif\u001b[39;00m ddgs_gen:\n\u001b[0;32m     73\u001b[0m         \u001b[38;5;28;01mreturn\u001b[39;00m [r \u001b[38;5;28;01mfor\u001b[39;00m r \u001b[38;5;129;01min\u001b[39;00m ddgs_gen]\n",
      "File \u001b[1;32md:\\Projects\\content_generation\\venv\\Lib\\site-packages\\duckduckgo_search\\duckduckgo_search.py:292\u001b[0m, in \u001b[0;36mDDGS.text\u001b[1;34m(self, keywords, region, safesearch, timelimit, backend, max_results)\u001b[0m\n\u001b[0;32m    289\u001b[0m         logger\u001b[38;5;241m.\u001b[39minfo(\u001b[38;5;124mf\u001b[39m\u001b[38;5;124m\"\u001b[39m\u001b[38;5;124mError to search using \u001b[39m\u001b[38;5;132;01m{\u001b[39;00mb\u001b[38;5;132;01m}\u001b[39;00m\u001b[38;5;124m backend: \u001b[39m\u001b[38;5;132;01m{\u001b[39;00mex\u001b[38;5;132;01m}\u001b[39;00m\u001b[38;5;124m\"\u001b[39m)\n\u001b[0;32m    290\u001b[0m         err \u001b[38;5;241m=\u001b[39m ex\n\u001b[1;32m--> 292\u001b[0m \u001b[38;5;28;01mraise\u001b[39;00m DuckDuckGoSearchException(err)\n",
      "\u001b[1;31mDuckDuckGoSearchException\u001b[0m: https://lite.duckduckgo.com/lite/ 202 Ratelimit"
     ]
    }
   ],
   "source": [
    "from langchain_community.tools import DuckDuckGoSearchRun\n",
    "from langchain_community.tools import DuckDuckGoSearchResults\n",
    "\n",
    "search = DuckDuckGoSearchResults(output_format=\"list\")\n",
    "\n",
    "search.invoke(\"What is Reinenforcement Learning\")"
   ]
  },
  {
   "cell_type": "code",
   "execution_count": 17,
   "metadata": {},
   "outputs": [
    {
     "data": {
      "text/plain": [
       "[{'snippet': 'Nele Albers of Delft University of Technology (The Netherlands) uses AI coaches to help smokers quit smoking and vaping for her doctoral dissertation. She has developed an AI coach that uses psychologically informed reinforcement learning (RL),',\n",
       "  'title': 'Smart AI coach helps smokers quit using reinforcement learning',\n",
       "  'link': 'https://www.msn.com/en-us/money/other/smart-ai-coach-helps-smokers-quit-using-reinforcement-learning/ar-AA1zW06G',\n",
       "  'date': '2025-02-27T20:18:03+00:00',\n",
       "  'source': 'Medical Xpress'},\n",
       " {'snippet': 'Artificial intelligence (AI) has transformed the business landscape and changed how we work. Its capability to automate tasks, analyze extensive datasets efficiently and provide concise business insights facilitates both the speed and quality of business operations.',\n",
       "  'title': \"Artificial Intelligence Or Machine Learning: What's Right For Your Business?\",\n",
       "  'link': 'https://www.forbes.com/councils/forbesbusinesscouncil/2025/02/28/artificial-intelligence-or-machine-learning-whats-right-for-your-business/',\n",
       "  'date': '2025-02-28T13:00:00+00:00',\n",
       "  'source': 'Forbes'},\n",
       " {'snippet': 'Boston Dynamics founder Marc Raibert says reinforcement learning is helping his creations gain more independence.',\n",
       "  'title': 'Boston Dynamics Led a Robot Revolution. Now Its Machines Are Teaching Themselves New Tricks',\n",
       "  'link': 'https://www.wired.com/story/boston-dynamics-led-a-robot-revolution-now-its-machines-are-teaching-themselves-new-tricks/',\n",
       "  'date': '2025-02-26T18:42:00+00:00',\n",
       "  'source': 'Wired'},\n",
       " {'snippet': 'In recent years, Large Language Models (LLMs) have significantly redefined the field of artificial intelligence (AI), enabling machines to understand and generate human-like text with remarkable proficiency.',\n",
       "  'title': 'The Many Faces of Reinforcement Learning: Shaping Large Language Models',\n",
       "  'link': 'https://www.unite.ai/the-many-faces-of-reinforcement-learning-shaping-large-language-models/',\n",
       "  'date': '2025-02-13T14:41:00+00:00',\n",
       "  'source': 'unite'}]"
      ]
     },
     "execution_count": 17,
     "metadata": {},
     "output_type": "execute_result"
    }
   ],
   "source": [
    "search = DuckDuckGoSearchResults(backend=\"news\",output_format=\"list\")\n",
    "\n",
    "search.invoke(\"Reinenforcement Learning\")"
   ]
  },
  {
   "cell_type": "code",
   "execution_count": null,
   "metadata": {},
   "outputs": [],
   "source": []
  },
  {
   "cell_type": "code",
   "execution_count": 21,
   "metadata": {},
   "outputs": [
    {
     "name": "stdout",
     "output_type": "stream",
     "text": [
      "['apple', 'banana', 'amul', 'milk']\n"
     ]
    }
   ],
   "source": [
    "list1 = [\"apple\",\"banana\"]\n",
    "list2 = [\"amul\",\"milk\"]\n",
    "\n",
    "list3 = list1 + list2\n",
    "print(list3)"
   ]
  },
  {
   "cell_type": "code",
   "execution_count": 21,
   "metadata": {},
   "outputs": [],
   "source": [
    "blog_text=\"\"\" \n",
    "# Your Ultimate Guide to a Deep Learning Career Path for Beginners\\n\\n## Introduction\\n\\nAre you an engineering student feeling overwhelmed by the vast world of **Machine Learning** and **Deep Learning**? You're not alone. Many aspiring data scientists face a **no fixed pathway** to learning these complex subjects. With GPU resources often limited and intuition hard to build, navigating this landscape can feel daunting. But what if I told you that a structured approach could simplify your journey and set you up for success?\\n\\nIn this guide, we will unravel the **deep learning career path** tailored for beginners like you. We will explore key factors to consider when choosing a deep learning framework, common challenges, and best practices while providing actionable tips on curating a compelling deep learning portfolio. Let’s dive in!\\n\\n---\\n\\n### Table of Contents\\n1. [Choosing the Right Deep Learning Framework](#choosing-the-right-deep-learning-framework)\\n2. [Common Challenges in Deep Learning](#common-challenges-in-deep-learning)\\n3. [Essential Skills for a Successful Career](#essential-skills-for-a-successful-career)\\n4. [Building a Deep Learning Portfolio](#building-a-deep-learning-portfolio)\\n5. [Best Practices for Implementing Deep Learning Models](#best-practices-for-implementing-deep-learning-models)\\n6. [Networking Strategies for Aspiring Professionals](#networking-strategies-for-aspiring-professionals)\\n7. [Conclusion: Key Takeaways and Next Steps](#conclusion-key-takeaways-and-next-steps)\\n\\n---\\n\\n## Choosing the Right Deep Learning Framework\\n\\nWhen embarking on your deep learning journey, one of the first steps is to select a suitable framework. Here are the **key factors** to consider:\\n\\n- **Ease of Use**: Look for frameworks with user-friendly APIs. Keras is a great choice for rapid prototyping, especially for beginners who want to get started quickly without being bogged down by overly complex syntax.\\n- **Flexibility**: If you’re leaning towards research, PyTorch’s dynamic computation graphs offer unmatched flexibility that facilitates experimentation. This is particularly valuable when trying to implement novel architectures or modifications.\\n- **Scalability**: Ensure the framework can handle larger datasets as your skills grow. TensorFlow, for instance, is known for its robustness in production scenarios, making it ideal for scaling applications.\\n- **Comprehensive Documentation**: Good documentation can save you time and trouble. Look for frameworks that offer extensive tutorials, examples, and community support.\\n\\n### Common Frameworks\\n- **Keras**: Ideal for beginners, facilitating quick model building with its intuitive API.\\n- **TensorFlow**: Great for production-ready applications, with tools like TensorBoard for visualization.\\n- **PyTorch**: Popular among researchers for its flexibility and close alignment with Python, making it easier to debug and iterate.\\n\\n### Additional Considerations\\n- **Community Support**: Frameworks with larger communities can provide better support through forums, GitHub repositories, and third-party tutorials.\\n- **Integration with Other Tools**: Consider how well the framework integrates with libraries for data handling (like Pandas), visualization (like Matplotlib), and deployment (like Flask or FastAPI).\\n\\n---\\n\\n## Common Challenges in Deep Learning\\n\\nWhile diving into deep learning, you may encounter several **common challenges**. Here’s how to navigate them:\\n\\n1. **Data Quality and Quantity**: Ensure you have large, diverse datasets. Utilize data augmentation techniques to artificially expand your dataset, which can improve model robustness.\\n2. **Computational Resources**: Invest in powerful hardware like GPUs or leverage cloud computing services (AWS, Google Cloud, Azure) that offer scalable resources, particularly for heavy training tasks.\\n3. **Model Interpretability**: Use tools like LIME or SHAP to help understand model decisions. As you work on more complex models, being able to interpret how they make decisions becomes critical, especially in sensitive applications like healthcare.\\n4. **Overfitting**: Implement regularization techniques such as dropout, weight decay, or early stopping, and monitor performance on validation sets to ensure generalizability.\\n\\n**Best Practice Tip**: Regularly check your models for overfitting to ensure they generalize well to unseen data. Using cross-validation can also help in assessing model performance reliably.\\n\\n---\\n\\n## Essential Skills for a Successful Career\\n\\nFor a fruitful career in deep learning, you'll need to develop both **technical and soft skills**:\\n\\n### Technical Skills\\n- **Framework Proficiency**: Master TensorFlow and Keras for model building, and become comfortable with PyTorch for research-oriented projects.\\n- **Data Preprocessing**: Learn techniques like data cleaning, normalization, and feature engineering. This is crucial as the quality of input data can significantly impact performance.\\n- **Math Foundations**: Familiarize yourself with linear algebra, calculus, and statistics. Understanding concepts such as gradients, loss functions, and optimization techniques will empower you to fine-tune your models effectively.\\n- **Cuda Programming**: If you're interested in maximizing performance, understanding Cuda programming can help you leverage the full capabilities of GPUs for faster model training.\\n\\n### Soft Skills\\n- **Communication**: Being able to explain complex concepts clearly is crucial, especially when discussing your work with non-technical stakeholders.\\n- **Problem-Solving**: Cultivate a mindset to tackle unexpected challenges. Developing a systematic approach to debugging and troubleshooting can save you time and effort.\\n- **Adaptability**: Stay updated with the ever-evolving technology landscape. Follow the latest research papers, blogs, and online courses to keep your knowledge fresh.\\n\\n---\\n\\n## Building a Deep Learning Portfolio\\n\\nYour portfolio is a crucial element in showcasing your skills. Here’s how to create an impressive one:\\n\\n1. **Project Variety**: Include projects from different domains—computer vision, natural language processing, and reinforcement learning. This diversity will showcase your adaptability and breadth of knowledge.\\n2. **Unique Applications**: Instead of copying others, apply existing models to unique datasets or problems. Consider exploring niche problems or datasets that may not be widely tackled yet.\\n3. **Skill Highlights**: Document the skills you learned from each project, focusing on data preprocessing techniques, model architecture choices, and challenges faced.\\n\\n### Example Projects\\n- **Image Classification using CNNs**: Build a model to classify images from a public dataset (like CIFAR-10 or MNIST) and document your approach.\\n- **Sentiment Analysis with RNNs**: Create a sentiment analysis tool using social media data. Explore how different architectures (like LSTM and GRU) affect performance.\\n- **Reinforcement Learning for Game AI**: Develop an AI agent that learns to play a simple game using reinforcement learning techniques. Document your exploration of different algorithms like Q-learning and policy gradients.\\n\\n### Presentation Matters\\nEnsure your portfolio is cleanly presented. Use platforms like GitHub for code and Jupyter notebooks for documentation. Create a personal website to host your projects, making it easy for potential employers to view your work.\\n\\n---\\n\\n## Best Practices for Implementing Deep Learning Models\\n\\nTo increase your chances of success, follow these **best practices**:\\n\\n1. **Meticulous Data Preparation**: The quality of your input data is paramount. Spend adequate time on data cleaning and preprocessing, as this step lays the foundation for your model's success.\\n2. **Choose Suitable Architectures**: Use CNNs for images, RNNs for sequences, and transformers for NLP tasks. Each architecture has strengths suited for specific types of data.\\n3. **Data Splitting**: Always split your data into training, validation, and test sets to evaluate model performance effectively. This will help in avoiding data leakage.\\n4. **Monitor Overfitting**: Keep an eye on training vs. validation loss; adjust model complexity accordingly. Techniques like K-fold cross-validation can improve the reliability of your validation scores.\\n5. **Hyperparameter Tuning**: Experiment with different values for hyperparameters, including learning rates and batch sizes. Libraries like Optuna and Hyperopt can help automate this process.\\n\\n---\\n\\n## Networking Strategies for Aspiring Professionals\\n\\nBuilding a network in the deep learning community can open many doors. Here are some effective strategies:\\n\\n1. **Attend Meetups and Conferences**: Engage with industry professionals and exchange ideas. Events like NeurIPS and ICML can be excellent opportunities to learn and connect.\\n2. **Online Forums**: Leverage platforms like Stack Overflow, Reddit, and specialized deep learning forums to connect with peers and experts. Participate in discussions to showcase your knowledge and willingness to learn.\\n3. **Show Genuine Interest**: Build relationships by actively listening and engaging in meaningful conversations. Ask insightful questions to learn more about others' experiences.\\n4. **Share Your Work**: Don’t hesitate to showcase your projects and insights on platforms like LinkedIn and Medium. This can lead to valuable connections and opportunities.\\n\\n---\\n\\n## Conclusion: Key Takeaways and Next Steps\\n\\nEmbarking on a deep learning career as a beginner can seem overwhelming, but by following this structured approach, you can navigate your way to success. Remember to:\\n\\n- Choose the right framework based on your needs.\\n- Acknowledge and address common challenges.\\n- Build a diverse portfolio that showcases your skills.\\n- Foster connections within the community.\\n\\n### Next Steps\\nStart by applying the tips shared in this guide. Choose a framework, work on a project, and begin networking today. As you progress, don't forget to document your journey, reflecting on your learning and experiences. This will not only help solidify your understanding but also serv\"\"\"\n",
    "\n",
    "complete_blog_prompt = \"\"\"\n",
    "You are tasked with completing text that was cut off due to token limitations in a previous generation attempt. Your goal is to analyze the incomplete text, understand its content and intended direction, and provide ONLY the continuation from the exact point where it was cut off.\n",
    "\n",
    "INPUT:\n",
    "The following is an incomplete blog that needs to be continued from the last sentence:\n",
    "{json_blog}\n",
    "\n",
    "INSTRUCTIONS:\n",
    "1. Carefully examine the content and identify exactly where the text was cut off\n",
    "2. Generate ONLY the remaining text that would naturally continue from that point\n",
    "3. Maintain consistency with the style, tone, and format of the existing content\n",
    "4. Do not repeat or restate any content that is already present in the input\n",
    "5. Begin your response exactly where the input text ended (after the last complete sentence)\n",
    "6. Ensure your continuation flows naturally from the existing content\n",
    "7. Return only the text continuation without any explanatory comments\n",
    "8. Format the output as valid JSON content (properly escaped)\n",
    "\n",
    "OUTPUT:\n",
    "{{\n",
    "   \"optimized_blog\": \"YOUR CONTINUATION TEXT ONLY\"\n",
    "}}\n",
    "\n",
    "- Do not wrap json in backticks.\n",
    "- Do not include any markdown formatting.\n",
    "- Do not regenerate or repeat any content from the input.\n",
    "- Only provide the text that would logically follow after the last complete sentence.\n",
    "\"\"\""
   ]
  },
  {
   "cell_type": "code",
   "execution_count": 22,
   "metadata": {},
   "outputs": [
    {
     "name": "stdout",
     "output_type": "stream",
     "text": [
      "calling LLM 1PWWT1ehinTCU2KNZE7OuE6o8ELkCtRufSrOqOvGxk48lTHZ6ZfCJQQJ99BAACLArgHXJ3w3AAAAACOGsb6z https://ai-tmhub2080459798235.openai.azure.com/ 2024-05-01-preview\n",
      "<class 'langchain_core.messages.ai.AIMessage'> {\n",
      "   \"optimized_blog\": \"e as a testament to your growth. With dedication, curiosity, and a willingness to learn, you can carve out a successful path in the dynamic field of deep learning. Good luck on your journey!\"\n",
      "}\n",
      " \n",
      "# Your Ultimate Guide to a Deep Learning Career Path for Beginners\n",
      "\n",
      "## Introduction\n",
      "\n",
      "Are you an engineering student feeling overwhelmed by the vast world of **Machine Learning** and **Deep Learning**? You're not alone. Many aspiring data scientists face a **no fixed pathway** to learning these complex subjects. With GPU resources often limited and intuition hard to build, navigating this landscape can feel daunting. But what if I told you that a structured approach could simplify your journey and set you up for success?\n",
      "\n",
      "In this guide, we will unravel the **deep learning career path** tailored for beginners like you. We will explore key factors to consider when choosing a deep learning framework, common challenges, and best practices while providing actionable tips on curating a compelling deep learning portfolio. Let’s dive in!\n",
      "\n",
      "---\n",
      "\n",
      "### Table of Contents\n",
      "1. [Choosing the Right Deep Learning Framework](#choosing-the-right-deep-learning-framework)\n",
      "2. [Common Challenges in Deep Learning](#common-challenges-in-deep-learning)\n",
      "3. [Essential Skills for a Successful Career](#essential-skills-for-a-successful-career)\n",
      "4. [Building a Deep Learning Portfolio](#building-a-deep-learning-portfolio)\n",
      "5. [Best Practices for Implementing Deep Learning Models](#best-practices-for-implementing-deep-learning-models)\n",
      "6. [Networking Strategies for Aspiring Professionals](#networking-strategies-for-aspiring-professionals)\n",
      "7. [Conclusion: Key Takeaways and Next Steps](#conclusion-key-takeaways-and-next-steps)\n",
      "\n",
      "---\n",
      "\n",
      "## Choosing the Right Deep Learning Framework\n",
      "\n",
      "When embarking on your deep learning journey, one of the first steps is to select a suitable framework. Here are the **key factors** to consider:\n",
      "\n",
      "- **Ease of Use**: Look for frameworks with user-friendly APIs. Keras is a great choice for rapid prototyping, especially for beginners who want to get started quickly without being bogged down by overly complex syntax.\n",
      "- **Flexibility**: If you’re leaning towards research, PyTorch’s dynamic computation graphs offer unmatched flexibility that facilitates experimentation. This is particularly valuable when trying to implement novel architectures or modifications.\n",
      "- **Scalability**: Ensure the framework can handle larger datasets as your skills grow. TensorFlow, for instance, is known for its robustness in production scenarios, making it ideal for scaling applications.\n",
      "- **Comprehensive Documentation**: Good documentation can save you time and trouble. Look for frameworks that offer extensive tutorials, examples, and community support.\n",
      "\n",
      "### Common Frameworks\n",
      "- **Keras**: Ideal for beginners, facilitating quick model building with its intuitive API.\n",
      "- **TensorFlow**: Great for production-ready applications, with tools like TensorBoard for visualization.\n",
      "- **PyTorch**: Popular among researchers for its flexibility and close alignment with Python, making it easier to debug and iterate.\n",
      "\n",
      "### Additional Considerations\n",
      "- **Community Support**: Frameworks with larger communities can provide better support through forums, GitHub repositories, and third-party tutorials.\n",
      "- **Integration with Other Tools**: Consider how well the framework integrates with libraries for data handling (like Pandas), visualization (like Matplotlib), and deployment (like Flask or FastAPI).\n",
      "\n",
      "---\n",
      "\n",
      "## Common Challenges in Deep Learning\n",
      "\n",
      "While diving into deep learning, you may encounter several **common challenges**. Here’s how to navigate them:\n",
      "\n",
      "1. **Data Quality and Quantity**: Ensure you have large, diverse datasets. Utilize data augmentation techniques to artificially expand your dataset, which can improve model robustness.\n",
      "2. **Computational Resources**: Invest in powerful hardware like GPUs or leverage cloud computing services (AWS, Google Cloud, Azure) that offer scalable resources, particularly for heavy training tasks.\n",
      "3. **Model Interpretability**: Use tools like LIME or SHAP to help understand model decisions. As you work on more complex models, being able to interpret how they make decisions becomes critical, especially in sensitive applications like healthcare.\n",
      "4. **Overfitting**: Implement regularization techniques such as dropout, weight decay, or early stopping, and monitor performance on validation sets to ensure generalizability.\n",
      "\n",
      "**Best Practice Tip**: Regularly check your models for overfitting to ensure they generalize well to unseen data. Using cross-validation can also help in assessing model performance reliably.\n",
      "\n",
      "---\n",
      "\n",
      "## Essential Skills for a Successful Career\n",
      "\n",
      "For a fruitful career in deep learning, you'll need to develop both **technical and soft skills**:\n",
      "\n",
      "### Technical Skills\n",
      "- **Framework Proficiency**: Master TensorFlow and Keras for model building, and become comfortable with PyTorch for research-oriented projects.\n",
      "- **Data Preprocessing**: Learn techniques like data cleaning, normalization, and feature engineering. This is crucial as the quality of input data can significantly impact performance.\n",
      "- **Math Foundations**: Familiarize yourself with linear algebra, calculus, and statistics. Understanding concepts such as gradients, loss functions, and optimization techniques will empower you to fine-tune your models effectively.\n",
      "- **Cuda Programming**: If you're interested in maximizing performance, understanding Cuda programming can help you leverage the full capabilities of GPUs for faster model training.\n",
      "\n",
      "### Soft Skills\n",
      "- **Communication**: Being able to explain complex concepts clearly is crucial, especially when discussing your work with non-technical stakeholders.\n",
      "- **Problem-Solving**: Cultivate a mindset to tackle unexpected challenges. Developing a systematic approach to debugging and troubleshooting can save you time and effort.\n",
      "- **Adaptability**: Stay updated with the ever-evolving technology landscape. Follow the latest research papers, blogs, and online courses to keep your knowledge fresh.\n",
      "\n",
      "---\n",
      "\n",
      "## Building a Deep Learning Portfolio\n",
      "\n",
      "Your portfolio is a crucial element in showcasing your skills. Here’s how to create an impressive one:\n",
      "\n",
      "1. **Project Variety**: Include projects from different domains—computer vision, natural language processing, and reinforcement learning. This diversity will showcase your adaptability and breadth of knowledge.\n",
      "2. **Unique Applications**: Instead of copying others, apply existing models to unique datasets or problems. Consider exploring niche problems or datasets that may not be widely tackled yet.\n",
      "3. **Skill Highlights**: Document the skills you learned from each project, focusing on data preprocessing techniques, model architecture choices, and challenges faced.\n",
      "\n",
      "### Example Projects\n",
      "- **Image Classification using CNNs**: Build a model to classify images from a public dataset (like CIFAR-10 or MNIST) and document your approach.\n",
      "- **Sentiment Analysis with RNNs**: Create a sentiment analysis tool using social media data. Explore how different architectures (like LSTM and GRU) affect performance.\n",
      "- **Reinforcement Learning for Game AI**: Develop an AI agent that learns to play a simple game using reinforcement learning techniques. Document your exploration of different algorithms like Q-learning and policy gradients.\n",
      "\n",
      "### Presentation Matters\n",
      "Ensure your portfolio is cleanly presented. Use platforms like GitHub for code and Jupyter notebooks for documentation. Create a personal website to host your projects, making it easy for potential employers to view your work.\n",
      "\n",
      "---\n",
      "\n",
      "## Best Practices for Implementing Deep Learning Models\n",
      "\n",
      "To increase your chances of success, follow these **best practices**:\n",
      "\n",
      "1. **Meticulous Data Preparation**: The quality of your input data is paramount. Spend adequate time on data cleaning and preprocessing, as this step lays the foundation for your model's success.\n",
      "2. **Choose Suitable Architectures**: Use CNNs for images, RNNs for sequences, and transformers for NLP tasks. Each architecture has strengths suited for specific types of data.\n",
      "3. **Data Splitting**: Always split your data into training, validation, and test sets to evaluate model performance effectively. This will help in avoiding data leakage.\n",
      "4. **Monitor Overfitting**: Keep an eye on training vs. validation loss; adjust model complexity accordingly. Techniques like K-fold cross-validation can improve the reliability of your validation scores.\n",
      "5. **Hyperparameter Tuning**: Experiment with different values for hyperparameters, including learning rates and batch sizes. Libraries like Optuna and Hyperopt can help automate this process.\n",
      "\n",
      "---\n",
      "\n",
      "## Networking Strategies for Aspiring Professionals\n",
      "\n",
      "Building a network in the deep learning community can open many doors. Here are some effective strategies:\n",
      "\n",
      "1. **Attend Meetups and Conferences**: Engage with industry professionals and exchange ideas. Events like NeurIPS and ICML can be excellent opportunities to learn and connect.\n",
      "2. **Online Forums**: Leverage platforms like Stack Overflow, Reddit, and specialized deep learning forums to connect with peers and experts. Participate in discussions to showcase your knowledge and willingness to learn.\n",
      "3. **Show Genuine Interest**: Build relationships by actively listening and engaging in meaningful conversations. Ask insightful questions to learn more about others' experiences.\n",
      "4. **Share Your Work**: Don’t hesitate to showcase your projects and insights on platforms like LinkedIn and Medium. This can lead to valuable connections and opportunities.\n",
      "\n",
      "---\n",
      "\n",
      "## Conclusion: Key Takeaways and Next Steps\n",
      "\n",
      "Embarking on a deep learning career as a beginner can seem overwhelming, but by following this structured approach, you can navigate your way to success. Remember to:\n",
      "\n",
      "- Choose the right framework based on your needs.\n",
      "- Acknowledge and address common challenges.\n",
      "- Build a diverse portfolio that showcases your skills.\n",
      "- Foster connections within the community.\n",
      "\n",
      "### Next Steps\n",
      "Start by applying the tips shared in this guide. Choose a framework, work on a project, and begin networking today. As you progress, don't forget to document your journey, reflecting on your learning and experiences. This will not only help solidify your understanding but also serve as a testament to your growth. With dedication, curiosity, and a willingness to learn, you can carve out a successful path in the dynamic field of deep learning. Good luck on your journey!\n"
     ]
    }
   ],
   "source": [
    "from helper_functions.call_llm import send_request_to_llm\n",
    "import json\n",
    "formatted = complete_blog_prompt.format(json_blog=blog_text)\n",
    "\n",
    "response = send_request_to_llm(formatted)\n",
    "res = json.loads(response)\n",
    "\n",
    "complete_blog = blog_text +res[\"optimized_blog\"]\n",
    "print(complete_blog)\n"
   ]
  }
 ],
 "metadata": {
  "kernelspec": {
   "display_name": "venv",
   "language": "python",
   "name": "python3"
  },
  "language_info": {
   "codemirror_mode": {
    "name": "ipython",
    "version": 3
   },
   "file_extension": ".py",
   "mimetype": "text/x-python",
   "name": "python",
   "nbconvert_exporter": "python",
   "pygments_lexer": "ipython3",
   "version": "3.12.4"
  }
 },
 "nbformat": 4,
 "nbformat_minor": 2
}
